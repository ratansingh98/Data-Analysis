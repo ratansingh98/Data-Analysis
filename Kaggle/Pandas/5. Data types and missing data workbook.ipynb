{
  "cells": [
    {
      "metadata": {
        "_uuid": "289d1910a57950801bde143195a7e937e8d24f97",
        "_cell_guid": "7cca0db1-ca74-47d1-b111-8af30b9a2c7b",
        "collapsed": true
      },
      "cell_type": "markdown",
      "source": "# Data types and missing data workbook\n\n## Introduction\n\nThis is the workbook component of the \"Data types and missing data\" section of the tutorial.\n\n# Relevant Resources\n- [Data Types and Missing Data Reference](https://www.kaggle.com/residentmario/data-types-and-missing-data-reference)\n\n# Set Up\n**Fork this notebook using the button towards the top of the screen.**\n\nRun the following cell to load your data and some utility functions"
    },
    {
      "metadata": {
        "_uuid": "cb22173c626d18384645635c7d3bd519bbce34d8",
        "_cell_guid": "ee958ae0-a78c-438e-a4d8-c58815aed655",
        "collapsed": true,
        "trusted": true
      },
      "cell_type": "code",
      "source": "import pandas as pd\nimport seaborn as sns\nfrom learntools.advanced_pandas.data_types_missing_data import *\n\nreviews = pd.read_csv(\"../input/wine-reviews/winemag-data-130k-v2.csv\", index_col=0)\npd.set_option('max_rows', 5)",
      "execution_count": 1,
      "outputs": []
    },
    {
      "metadata": {
        "_uuid": "cc188a91c361db215008684a4b5613b5be2eb75e",
        "_cell_guid": "c1c0c73d-a98a-43ee-9574-fc2cbe21c10b"
      },
      "cell_type": "markdown",
      "source": "# Checking Answers\n\n**Check your answers in each exercise using the  `check_qN` function** (replacing `N` with the number of the exercise). For example here's how you would check an incorrect answer to exercise 1:"
    },
    {
      "metadata": {
        "_uuid": "fc7dafb535e9041971967163e861157c1413d5c5",
        "_cell_guid": "005e1813-7239-4639-8c98-647cdd510284",
        "trusted": true
      },
      "cell_type": "code",
      "source": "check_q1(pd.DataFrame())",
      "execution_count": 2,
      "outputs": [
        {
          "output_type": "execute_result",
          "execution_count": 2,
          "data": {
            "text/plain": "False"
          },
          "metadata": {}
        }
      ]
    },
    {
      "metadata": {
        "_uuid": "f466a6df2ed46421685268f0f161146f9c57c4dd",
        "_cell_guid": "c97444e5-dd02-4761-86ec-03bb83297c45"
      },
      "cell_type": "markdown",
      "source": "If you get stuck, **use the `answer_qN` function to see the code with the correct answer.**\n\nFor the first set of questions, running the `check_qN` on the correct answer returns `True`.\n\nFor the second set of questions, using this function to check a correct answer will present an informative graph!"
    },
    {
      "metadata": {
        "_uuid": "f5d9c7ec505fcdfe2631231a65a7e70ecb346858",
        "_cell_guid": "af123726-607f-4344-912d-0602a54b2483"
      },
      "cell_type": "markdown",
      "source": "# Exercises"
    },
    {
      "metadata": {
        "_uuid": "866e792da2ba35ed10ad4ebf7df6b8e70ff0f174",
        "_cell_guid": "cfeb1cd2-1eb3-4e97-a159-33ed0e55796d"
      },
      "cell_type": "markdown",
      "source": "**Exercise 1**: What is the data type of the `points` column in the dataset?"
    },
    {
      "metadata": {
        "_uuid": "5fe000d6fc5847fe07baa6e4cc41d59f66bf2aa2",
        "_cell_guid": "de4a2d0c-cd84-4682-b7ab-b05f36f0f2db",
        "trusted": true
      },
      "cell_type": "code",
      "source": "# Your code here\nres1 = reviews.points.dtype\ncheck_q1(res1)",
      "execution_count": 3,
      "outputs": [
        {
          "output_type": "execute_result",
          "execution_count": 3,
          "data": {
            "text/plain": "True"
          },
          "metadata": {}
        }
      ]
    },
    {
      "metadata": {
        "_uuid": "ac053dbdbfc9a3727955e891eab55fe5778811fd",
        "_cell_guid": "f29b7905-b694-4304-982a-6ae614b4db0f"
      },
      "cell_type": "markdown",
      "source": "**Exercise 2**: Create a `Series` from entries in the `price` column, but convert the entries to strings. Hint: strings are `str` in native Python."
    },
    {
      "metadata": {
        "_uuid": "b9ad107b7c4d1ece737c684e253571476a385176",
        "_cell_guid": "114bfbcf-66f8-476f-ab12-ec5900089e05",
        "trusted": true
      },
      "cell_type": "code",
      "source": "# Your code here\nres2 = pd.Series(reviews.price,dtype=str)\ncheck_q2(res2)",
      "execution_count": 4,
      "outputs": [
        {
          "output_type": "execute_result",
          "execution_count": 4,
          "data": {
            "text/plain": "True"
          },
          "metadata": {}
        }
      ]
    },
    {
      "metadata": {
        "_uuid": "e019e377bb4aa3933641a0ce27cdead35cac07dc",
        "_cell_guid": "9bd9a7fe-22a8-4ebf-86f4-bfaefdccc207"
      },
      "cell_type": "markdown",
      "source": "Here are a few visual exercises on missing data.\n\n**Exercise 3**: Wines are something missing prices. How often does this occur? Generate a `Series`that, for each review in the dataset, states whether the wine reviewed has a null `price`."
    },
    {
      "metadata": {
        "_uuid": "50a193f26a59261c1aa4687553fcac1a01ff8f48",
        "_cell_guid": "9bb417f9-c4dd-48df-8aab-72e59f751514",
        "trusted": true
      },
      "cell_type": "code",
      "source": "# Your code here\nres3 = pd.Series(reviews.price.isnull())\ncheck_q3(res3)",
      "execution_count": 5,
      "outputs": [
        {
          "output_type": "execute_result",
          "execution_count": 5,
          "data": {
            "text/plain": "<matplotlib.axes._subplots.AxesSubplot at 0x7fcc6d679898>"
          },
          "metadata": {}
        },
        {
          "output_type": "display_data",
          "data": {
            "text/plain": "<matplotlib.figure.Figure at 0x7fcc69c5d240>",
            "image/png": "[encoded data removed]"
          },
          "metadata": {}
        }
      ]
    },
    {
      "metadata": {
        "_uuid": "2814d97e0aa5b5167f1b023f75f3705afbfa933f",
        "_cell_guid": "ca0e4317-1db0-4b1a-8c62-6ab89ba2549f"
      },
      "cell_type": "markdown",
      "source": "**Exercise 4**: What are the most common wine-producing regions? Create a `Series` counting the number of times each value occurs in the `region_1` field. This field is often missing data, so replace missing values with `Unknown`. Sort in descending order. Your output should look something like this:\n\n```\nUnknown                    21247\nNapa Valley                 4480\n                           ...  \nBardolino Superiore            1\nPrimitivo del Tarantino        1\nName: region_1, Length: 1230, dtype: int64\n```"
    },
    {
      "metadata": {
        "_uuid": "63f1b10a8a53d162c8cf2ec897d3ef28044109d4",
        "_cell_guid": "56f0a28b-2eaa-400b-b503-909d4b254ff3",
        "trusted": true
      },
      "cell_type": "code",
      "source": "# Your code here\nres4 = reviews.region_1.fillna(\"Unknown\").value_counts()\ncheck_q4(res4)",
      "execution_count": 6,
      "outputs": [
        {
          "output_type": "execute_result",
          "execution_count": 6,
          "data": {
            "text/plain": "<matplotlib.axes._subplots.AxesSubplot at 0x7fcc6cf8dc88>"
          },
          "metadata": {}
        },
        {
          "output_type": "display_data",
          "data": {
            "text/plain": "<matplotlib.figure.Figure at 0x7fcc6cf756d8>",
            "image/png": "[encoded data removed]"
          },
          "metadata": {}
        }
      ]
    },
    {
      "metadata": {
        "_uuid": "5810dc50846cfdfc98108f8a32f7e1a94f5599a5",
        "_cell_guid": "2eca8be4-d277-4c27-b488-3b0809ed7ea4"
      },
      "cell_type": "markdown",
      "source": "**Exercise 5**: A neat property of boolean data types, like the ones created by the `isnull()` method, is that `False` gets treated as 0 and `True` as 1 when performing math on the values. Thus, the `sum()` of a list of boolean values will return how many times `True` appears in that list.\n\nCreate a `pandas` `Series` showing how many times each of the columns in the dataset contains null values. Your result should look something like this:\n\n```\ncountry        63\ndescription     0\n               ..\nvariety         1\nwinery          0\nLength: 13, dtype: int64\n```"
    },
    {
      "metadata": {
        "_uuid": "d126323530281ee6223ef4db3f7dd636ad85fe41",
        "_cell_guid": "c52aac16-bb11-40ee-a50c-ec56de633421",
        "trusted": true
      },
      "cell_type": "code",
      "source": "# Your code here\nres5 = reviews.isnull().sum()\ncheck_q5(res5)",
      "execution_count": 7,
      "outputs": [
        {
          "output_type": "execute_result",
          "execution_count": 7,
          "data": {
            "text/plain": "<matplotlib.axes._subplots.AxesSubplot at 0x7fcc6d3bc860>"
          },
          "metadata": {}
        },
        {
          "output_type": "display_data",
          "data": {
            "text/plain": "<matplotlib.figure.Figure at 0x7fcc6d3ae278>",
            "image/png": "[encoded data removed]"
          },
          "metadata": {}
        }
      ]
    },
    {
      "metadata": {
        "_uuid": "8695dcb57ff8390dca682b0856c74169ea67ea3c",
        "_cell_guid": "8d8b53f3-578b-46f4-833a-597d85ecf7bb"
      },
      "cell_type": "markdown",
      "source": "# Keep going\n\nMove on to the [**Renaming and combining workbook**](https://www.kaggle.com/residentmario/renaming-and-combining-workbook)"
    }
  ],
  "metadata": {
    "kernelspec": {
      "display_name": "Python 3",
      "language": "python",
      "name": "python3"
    },
    "language_info": {
      "name": "python",
      "version": "3.6.5",
      "mimetype": "text/x-python",
      "codemirror_mode": {
        "name": "ipython",
        "version": 3
      },
      "pygments_lexer": "ipython3",
      "nbconvert_exporter": "python",
      "file_extension": ".py"
    }
  },
  "nbformat": 4,
  "nbformat_minor": 1
}