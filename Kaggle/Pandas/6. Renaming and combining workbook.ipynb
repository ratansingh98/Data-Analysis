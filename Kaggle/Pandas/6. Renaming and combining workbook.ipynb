{
  "cells": [
    {
      "metadata": {
        "_uuid": "538d86e885d712165dcbcd9b854258fd1804c108",
        "_cell_guid": "b3696a68-f34c-4887-bc69-d40e9a31b2af"
      },
      "cell_type": "markdown",
      "source": "# Renaming and combining workbook\n\n## Introduction\n\nThis is the worbook part of the \"Renaming and combining\" section of the Advanced Pandas tutorial. For the reference section, click [here](https://www.kaggle.com/residentmario/renaming-and-combining-reference).\n\nRenaming is covered in its own section in the [\"Essential Basic Functionality\"](https://pandas.pydata.org/pandas-docs/stable/basics.html#renaming-mapping-labels) section of the extensive official documentation. Combining is covered by the [\"Merge, join, concatenate\"](https://pandas.pydata.org/pandas-docs/stable/merging.html) section there."
    },
    {
      "metadata": {
        "_uuid": "cf820f1d0be911ebf4c7d30a72374c58542cdf58",
        "collapsed": true,
        "_cell_guid": "8233f418-085f-45db-903a-87a8ca183808",
        "trusted": true
      },
      "cell_type": "code",
      "source": "import pandas as pd\n\nfrom learntools.advanced_pandas.renaming_and_combining import *\n\npd.set_option('max_rows', 5)\nreviews = pd.read_csv(\"../input/wine-reviews/winemag-data-130k-v2.csv\", index_col=0)",
      "execution_count": 1,
      "outputs": []
    },
    {
      "metadata": {
        "_uuid": "7b469b3773734e8aafee707387e82783b4b19889",
        "_cell_guid": "e00a05db-0789-4fdd-84bb-93b5071d4d9f"
      },
      "cell_type": "markdown",
      "source": "# Checking Answers\n\n**Check your answers in each exercise using the  `check_qN` function** (replacing `N` with the number of the exercise). For example here's how you would check an incorrect answer to exercise 1:"
    },
    {
      "metadata": {
        "_uuid": "bdde9e76afd2580bfb1654daa872402bcae8a650",
        "_cell_guid": "479e6b47-ee90-4178-9eb0-be9ed897acb1",
        "trusted": true
      },
      "cell_type": "code",
      "source": "check_q1(pd.DataFrame())",
      "execution_count": 2,
      "outputs": [
        {
          "output_type": "execute_result",
          "execution_count": 2,
          "data": {
            "text/plain": "False"
          },
          "metadata": {}
        }
      ]
    },
    {
      "metadata": {
        "_uuid": "fadb78e219567d5cb2f59ed37a231919f6acbc98",
        "_cell_guid": "4fb52c59-6736-4477-b903-e5f55b43dd31"
      },
      "cell_type": "markdown",
      "source": "If you get stuck, **use the `answer_qN` function to see the code with the correct answer.**\n\nFor the first set of questions, running the `check_qN` on the correct answer returns `True`.\n\nFor the second set of questions, using this function to check a correct answer will present an informative graph!"
    },
    {
      "metadata": {
        "_uuid": "41205e08261d0d382e8eb6366be9bfa6c3d3d831",
        "_cell_guid": "7b79bbf8-1136-4207-8bcc-9b7ddc432e70"
      },
      "cell_type": "markdown",
      "source": "# Exercises\n\nLook at your data by running the cell below:"
    },
    {
      "metadata": {
        "_uuid": "cd0641ea913b3e17cc230b26540dcd3fe63c8610",
        "_cell_guid": "b67240d5-1d21-404f-bf68-6295bc28874f",
        "trusted": true
      },
      "cell_type": "code",
      "source": "reviews.head()",
      "execution_count": 3,
      "outputs": [
        {
          "output_type": "execute_result",
          "execution_count": 3,
          "data": {
            "text/plain": "    country         ...                        winery\n0     Italy         ...                       Nicosia\n1  Portugal         ...           Quinta dos Avidagos\n2        US         ...                     Rainstorm\n3        US         ...                    St. Julian\n4        US         ...                  Sweet Cheeks\n\n[5 rows x 13 columns]",
            "text/html": "<div>\n<style scoped>\n    .dataframe tbody tr th:only-of-type {\n        vertical-align: middle;\n    }\n\n    .dataframe tbody tr th {\n        vertical-align: top;\n    }\n\n    .dataframe thead th {\n        text-align: right;\n    }\n</style>\n<table border=\"1\" class=\"dataframe\">\n  <thead>\n    <tr style=\"text-align: right;\">\n      <th></th>\n      <th>country</th>\n      <th>description</th>\n      <th>designation</th>\n      <th>points</th>\n      <th>price</th>\n      <th>province</th>\n      <th>region_1</th>\n      <th>region_2</th>\n      <th>taster_name</th>\n      <th>taster_twitter_handle</th>\n      <th>title</th>\n      <th>variety</th>\n      <th>winery</th>\n    </tr>\n  </thead>\n  <tbody>\n    <tr>\n      <th>0</th>\n      <td>Italy</td>\n      <td>Aromas include tropical fruit, broom, brimston...</td>\n      <td>Vulkà Bianco</td>\n      <td>87</td>\n      <td>NaN</td>\n      <td>Sicily &amp; Sardinia</td>\n      <td>Etna</td>\n      <td>NaN</td>\n      <td>Kerin O’Keefe</td>\n      <td>@kerinokeefe</td>\n      <td>Nicosia 2013 Vulkà Bianco  (Etna)</td>\n      <td>White Blend</td>\n      <td>Nicosia</td>\n    </tr>\n    <tr>\n      <th>1</th>\n      <td>Portugal</td>\n      <td>This is ripe and fruity, a wine that is smooth...</td>\n      <td>Avidagos</td>\n      <td>87</td>\n      <td>15.0</td>\n      <td>Douro</td>\n      <td>NaN</td>\n      <td>NaN</td>\n      <td>Roger Voss</td>\n      <td>@vossroger</td>\n      <td>Quinta dos Avidagos 2011 Avidagos Red (Douro)</td>\n      <td>Portuguese Red</td>\n      <td>Quinta dos Avidagos</td>\n    </tr>\n    <tr>\n      <th>2</th>\n      <td>US</td>\n      <td>Tart and snappy, the flavors of lime flesh and...</td>\n      <td>NaN</td>\n      <td>87</td>\n      <td>14.0</td>\n      <td>Oregon</td>\n      <td>Willamette Valley</td>\n      <td>Willamette Valley</td>\n      <td>Paul Gregutt</td>\n      <td>@paulgwine</td>\n      <td>Rainstorm 2013 Pinot Gris (Willamette Valley)</td>\n      <td>Pinot Gris</td>\n      <td>Rainstorm</td>\n    </tr>\n    <tr>\n      <th>3</th>\n      <td>US</td>\n      <td>Pineapple rind, lemon pith and orange blossom ...</td>\n      <td>Reserve Late Harvest</td>\n      <td>87</td>\n      <td>13.0</td>\n      <td>Michigan</td>\n      <td>Lake Michigan Shore</td>\n      <td>NaN</td>\n      <td>Alexander Peartree</td>\n      <td>NaN</td>\n      <td>St. Julian 2013 Reserve Late Harvest Riesling ...</td>\n      <td>Riesling</td>\n      <td>St. Julian</td>\n    </tr>\n    <tr>\n      <th>4</th>\n      <td>US</td>\n      <td>Much like the regular bottling from 2012, this...</td>\n      <td>Vintner's Reserve Wild Child Block</td>\n      <td>87</td>\n      <td>65.0</td>\n      <td>Oregon</td>\n      <td>Willamette Valley</td>\n      <td>Willamette Valley</td>\n      <td>Paul Gregutt</td>\n      <td>@paulgwine</td>\n      <td>Sweet Cheeks 2012 Vintner's Reserve Wild Child...</td>\n      <td>Pinot Noir</td>\n      <td>Sweet Cheeks</td>\n    </tr>\n  </tbody>\n</table>\n</div>"
          },
          "metadata": {}
        }
      ]
    },
    {
      "metadata": {
        "_uuid": "03a58c68581ef05bbf83c9a085721a9321e1ad38",
        "_cell_guid": "7a605a36-08d4-45f1-9b13-b3202751f8e6"
      },
      "cell_type": "markdown",
      "source": "**Exercise 1**: `region_1` and `region_2` are pretty uninformative names for locale columns in the dataset. Rename these columns to `region` and `locale`."
    },
    {
      "metadata": {
        "_uuid": "de765f7dd44c704ecd9dc13bc335f46075182d93",
        "_cell_guid": "f9c4fbe3-1733-434d-9b13-5ccf021d8bd6",
        "trusted": true
      },
      "cell_type": "code",
      "source": "# Your code here\nres1 = reviews.rename(columns={'region_1': 'region', 'region_2': 'locale'})\ncheck_q1(res1)",
      "execution_count": 4,
      "outputs": [
        {
          "output_type": "execute_result",
          "execution_count": 4,
          "data": {
            "text/plain": "True"
          },
          "metadata": {}
        }
      ]
    },
    {
      "metadata": {
        "_uuid": "0fe8fd38b4b5934924b54d0ecd78938ec491239d",
        "_cell_guid": "bd41facd-c1af-4766-b8a0-1f5929d5415f"
      },
      "cell_type": "markdown",
      "source": "**Exercise 2**: Set the index name in the dataset to `wines`."
    },
    {
      "metadata": {
        "_uuid": "0b6ee2a0355e06d1acfdcaba5a0163d196cca5e4",
        "_cell_guid": "3762866a-47d0-496b-b499-f81732dc963d",
        "trusted": true
      },
      "cell_type": "code",
      "source": "# Your code here\nres2 = reviews.rename_axis(\"wines\", axis=\"rows\")\ncheck_q2(res2)\n",
      "execution_count": 5,
      "outputs": [
        {
          "output_type": "execute_result",
          "execution_count": 5,
          "data": {
            "text/plain": "True"
          },
          "metadata": {}
        }
      ]
    },
    {
      "metadata": {
        "_uuid": "65cf08dd44419d2b321daea399f51a0268c1ca57",
        "_cell_guid": "894ec88e-9510-49f1-bf37-d0ead0054a89"
      },
      "cell_type": "markdown",
      "source": "**Exercise 3**: The [Things on Reddit](https://www.kaggle.com/residentmario/things-on-reddit/data) dataset includes product links from a selection of top-ranked forums (\"subreddits\") on Reddit.com. Create a `DataFrame` of products mentioned on *either* subreddit. Use the following data:"
    },
    {
      "metadata": {
        "_uuid": "fff720e4f35ba821931ee96e10777e0aad1835a6",
        "collapsed": true,
        "_cell_guid": "2abc7da3-d8e1-490e-9623-9b6535347a9c",
        "trusted": true
      },
      "cell_type": "code",
      "source": "gaming_products = pd.read_csv(\"../input/things-on-reddit/top-things/top-things/reddits/g/gaming.csv\")\ngaming_products['subreddit'] = \"r/gaming\"\nmovie_products = pd.read_csv(\"../input/things-on-reddit/top-things/top-things/reddits/m/movies.csv\")\nmovie_products['subreddit'] = \"r/movies\"",
      "execution_count": 6,
      "outputs": []
    },
    {
      "metadata": {
        "_uuid": "9d6c380351af95bac9564a7df251e96249037193",
        "_cell_guid": "0e429416-9b17-480e-9d26-b06f49194259",
        "trusted": true
      },
      "cell_type": "code",
      "source": "# Your code here\nres3 = pd.concat([gaming_products, movie_products])\ncheck_q3(res3)",
      "execution_count": 7,
      "outputs": [
        {
          "output_type": "execute_result",
          "execution_count": 7,
          "data": {
            "text/plain": "True"
          },
          "metadata": {}
        }
      ]
    },
    {
      "metadata": {
        "_uuid": "82629a1d21e0ac3d4c143bb1f97368ef59193eb7",
        "_cell_guid": "6b71e901-b9e4-43a9-87c9-e72262d2db02"
      },
      "cell_type": "markdown",
      "source": "**Exercise 4**: The [Powerlifting Database](https://www.kaggle.com/open-powerlifting/powerlifting-database) dataset on Kaggle includes one CSV table for powerlifting meets and a separate one for powerlifting competitors. Both tables include references to a `MeetID`, a unique key for each meet (competition) included in the database. Using this, generate a dataset combining the two tables into one. Use the following data:"
    },
    {
      "metadata": {
        "_uuid": "6eef34e09315e275ca34eaee10d6a9c85ef277a2",
        "collapsed": true,
        "_cell_guid": "198c82e5-904a-4be3-a29f-d6a366bc4cc4",
        "trusted": true
      },
      "cell_type": "code",
      "source": "powerlifting_meets = pd.read_csv(\"../input/powerlifting-database/meets.csv\")\npowerlifting_competitors = pd.read_csv(\"../input/powerlifting-database/openpowerlifting.csv\")",
      "execution_count": 8,
      "outputs": []
    },
    {
      "metadata": {
        "_uuid": "0ba2685b574f391bd66ba9baa8ccbcd9dd658833",
        "_cell_guid": "e15c6c6b-0080-4428-b4ab-32b605f48c49",
        "trusted": true
      },
      "cell_type": "code",
      "source": "# Your code here\nres4 = powerlifting_meets.set_index(\"MeetID\").join(powerlifting_competitors.set_index(\"MeetID\"))\ncheck_q4(res4)",
      "execution_count": 9,
      "outputs": [
        {
          "output_type": "execute_result",
          "execution_count": 9,
          "data": {
            "text/plain": "True"
          },
          "metadata": {}
        }
      ]
    },
    {
      "metadata": {
        "trusted": true,
        "collapsed": true,
        "_uuid": "f256643ffc3fbd516498ec0ddd0a5df99ef62305"
      },
      "cell_type": "code",
      "source": "",
      "execution_count": null,
      "outputs": []
    }
  ],
  "metadata": {
    "kernelspec": {
      "display_name": "Python 3",
      "language": "python",
      "name": "python3"
    },
    "language_info": {
      "name": "python",
      "version": "3.6.5",
      "mimetype": "text/x-python",
      "codemirror_mode": {
        "name": "ipython",
        "version": 3
      },
      "pygments_lexer": "ipython3",
      "nbconvert_exporter": "python",
      "file_extension": ".py"
    }
  },
  "nbformat": 4,
  "nbformat_minor": 1
}