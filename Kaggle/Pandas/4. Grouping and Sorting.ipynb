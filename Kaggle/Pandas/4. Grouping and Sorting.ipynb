{
 "cells": [
  {
   "cell_type": "markdown",
   "metadata": {
    "_cell_guid": "7d2c0bed-e234-4ed9-8418-50e2d4f261ce",
    "_uuid": "41ef69316a31179d29efa9126830d49db18ee849",
    "collapsed": true
   },
   "source": [
    "# Introduction\n",
    "Maps allow us to transform data in a `DataFrame` or `Series` one value at a time for an entire column. However, often we want to group our data, and then do something specific to the group the data is in. We do this with the `groupby` operation.\n",
    "\n",
    "In these exercises we'll apply groupwise analysis to our dataset.\n",
    "\n",
    "# Relevant Resources\n",
    "- [**Grouping Reference and Examples**](https://www.kaggle.com/residentmario/grouping-and-sorting-reference).  \n",
    "- [Pandas cheat sheet](https://github.com/pandas-dev/pandas/blob/master/doc/cheatsheet/Pandas_Cheat_Sheet.pdf)"
   ]
  },
  {
   "cell_type": "markdown",
   "metadata": {
    "_cell_guid": "8074a545-93e4-444d-97c3-5072424b82af",
    "_uuid": "cb1679d86e31ae07cae65734991dedc256477670"
   },
   "source": [
    "# Set Up\n",
    "Run the code cell below to load the data before running the exercises."
   ]
  },
  {
   "cell_type": "code",
   "execution_count": 1,
   "metadata": {
    "_cell_guid": "eeb0c820-9b90-427b-9ffe-5f19284612f6",
    "_uuid": "e2998b16c588cea8cfc151e8ea30e9c743715def",
    "collapsed": true
   },
   "outputs": [],
   "source": [
    "import pandas as pd\n",
    "from learntools.advanced_pandas.grouping_and_sorting import *\n",
    "\n",
    "reviews = pd.read_csv(\"../input/wine-reviews/winemag-data-130k-v2.csv\", index_col=0)\n",
    "pd.set_option(\"display.max_rows\", 5)"
   ]
  },
  {
   "cell_type": "markdown",
   "metadata": {
    "_cell_guid": "a2d79f51-1a14-45e8-ba9b-e22f267c4276",
    "_uuid": "c21ce253d787d7bb0f48ac3dcb0bd7529f3f86e8"
   },
   "source": [
    "# Checking Your Answers\n",
    "\n",
    "**Check your answers in each exercise using the  `check_qN` function** (replacing `N` with the number of the exercise). For example here's how you would check an incorrect answer to exercise 1:"
   ]
  },
  {
   "cell_type": "code",
   "execution_count": 2,
   "metadata": {
    "_cell_guid": "00da2801-5ca8-4450-b5a7-5da3b3c169c9",
    "_uuid": "d47f23574b313bd142ca2aef155f899c7517a2be"
   },
   "outputs": [
    {
     "data": {
      "text/plain": [
       "False"
      ]
     },
     "execution_count": 2,
     "metadata": {},
     "output_type": "execute_result"
    }
   ],
   "source": [
    "check_q1(pd.DataFrame())"
   ]
  },
  {
   "cell_type": "markdown",
   "metadata": {
    "_cell_guid": "14c9fa0b-51a0-46bb-81bd-258939cb091e",
    "_uuid": "42020602eae94c3ebc5ca1108396523c8b3e9c7c"
   },
   "source": [
    "If you get stuck, **use the `answer_qN` function to see the code with the correct answer.**\n",
    "\n",
    "For the first set of questions, running the `check_qN` on the correct answer returns `True`.\n",
    "For the second set of questions, using this function to check a correct answer will present an informative graph!"
   ]
  },
  {
   "cell_type": "markdown",
   "metadata": {
    "_cell_guid": "621631ef-b69c-4b85-823a-f713c6894a49",
    "_uuid": "8a2e7c4cbc0c359f16913ef0e86a6a479b5ce276"
   },
   "source": [
    "# Exercises"
   ]
  },
  {
   "cell_type": "markdown",
   "metadata": {
    "_cell_guid": "45bbcdb0-ffce-4db5-aa8e-08cc59d25096",
    "_uuid": "ceae4b627d78a83b3a8c14ba5010462b24f63e15"
   },
   "source": [
    "**Exercise 1**: Who are the most common wine reviewers in the dataset? Create a `Series` whose index is the `taster_twitter_handle` category from the dataset, and whose values count how many reviews each person wrote."
   ]
  },
  {
   "cell_type": "code",
   "execution_count": 3,
   "metadata": {
    "_cell_guid": "3dca18bc-cdb8-4006-be38-39ccbe09dc22",
    "_uuid": "2bd63076e7282aba33ca05d81414a327b25791f4"
   },
   "outputs": [
    {
     "data": {
      "text/plain": [
       "True"
      ]
     },
     "execution_count": 3,
     "metadata": {},
     "output_type": "execute_result"
    }
   ],
   "source": [
    "# Your code here\n",
    "common_wine_reviewers = reviews.groupby('taster_twitter_handle').taster_twitter_handle.count()\n",
    "check_q1(common_wine_reviewers)"
   ]
  },
  {
   "cell_type": "markdown",
   "metadata": {
    "_cell_guid": "75a00eac-7227-4bba-8998-634e847f8df8",
    "_uuid": "e4a10285c994991a6d5194a61d58816a1e46c4b5"
   },
   "source": [
    "**Exercise 2**: What is the best wine I can buy for a given amount of money? Create a `Series` whose index is wine prices and whose values is the maximum number of points a wine costing that much was given in a review. Sort the valeus by price, ascending (so that `4.0` dollars is at the top and `3300.0` dollars is at the bottom)."
   ]
  },
  {
   "cell_type": "code",
   "execution_count": 4,
   "metadata": {
    "_cell_guid": "0fd24c2d-6682-447e-b7bf-fd8bc56b09a2",
    "_uuid": "00d5df0828a08419bc934dc4795a26d067337b1e"
   },
   "outputs": [
    {
     "data": {
      "text/plain": [
       "True"
      ]
     },
     "execution_count": 4,
     "metadata": {},
     "output_type": "execute_result"
    }
   ],
   "source": [
    "# Your code here\n",
    "best_wine = reviews.groupby('price').points.max().sort_index()\n",
    "check_q2(best_wine)"
   ]
  },
  {
   "cell_type": "markdown",
   "metadata": {
    "_cell_guid": "25b51ad3-a410-43a5-9c19-cd321719e7d3",
    "_uuid": "24d0a38c0f999fcbe2085b55e60d5c0176bc6916"
   },
   "source": [
    "**Exercise 3**: What are the minimum and maximum prices for each `variety` of wine? Create a `DataFrame` whose index is the `variety` category from the dataset and whose values are the `min` and `max` values thereof."
   ]
  },
  {
   "cell_type": "code",
   "execution_count": 5,
   "metadata": {
    "_cell_guid": "8b9703f8-5965-40b4-b7a7-7260c01a2eab",
    "_uuid": "f07cc8572c1646ac57c53f80315eebb15f76d52f"
   },
   "outputs": [
    {
     "data": {
      "text/plain": [
       "True"
      ]
     },
     "execution_count": 5,
     "metadata": {},
     "output_type": "execute_result"
    }
   ],
   "source": [
    "# Your code here\n",
    "wine_price_extremes = reviews.groupby('variety').price.agg([min, max])\n",
    "check_q3(wine_price_extremes)"
   ]
  },
  {
   "cell_type": "markdown",
   "metadata": {
    "_cell_guid": "fc823a15-f6de-4355-9a9d-e3c1ffc79155",
    "_uuid": "cabccb4231a824d25692a9b4d60ae1752f4608aa"
   },
   "source": [
    "The rest of the exercises are visual.\n",
    "\n",
    "**Exercise 4**: Are there significant differences in the average scores assigned by the various reviewers? Create a `Series` whose index is reviewers and whose values is the average review score given out by that reviewer. Hint: you will need the `taster_name` and `points` columns."
   ]
  },
  {
   "cell_type": "code",
   "execution_count": 6,
   "metadata": {
    "_cell_guid": "7b3edc07-fdd3-40eb-a868-83ea2ba3c88d",
    "_uuid": "c8a99c4e3bbe35e9784448131beebe773c6467b8"
   },
   "outputs": [
    {
     "data": {
      "text/plain": [
       "<matplotlib.axes._subplots.AxesSubplot at 0x7fe9a2d6bfd0>"
      ]
     },
     "execution_count": 6,
     "metadata": {},
     "output_type": "execute_result"
    },
    {
     "data": {
      "image/png": "[encoded data removed]",
      "text/plain": [
       "<matplotlib.figure.Figure at 0x7fe9a2d6b940>"
      ]
     },
     "metadata": {},
     "output_type": "display_data"
    }
   ],
   "source": [
    "# Your code here\n",
    "reviewer_mean_ratings = reviews.groupby('taster_name').points.mean()\n",
    "check_q4(reviewer_mean_ratings)"
   ]
  },
  {
   "cell_type": "markdown",
   "metadata": {
    "_cell_guid": "746f335e-f558-4c87-bc7d-a3153029e1c4",
    "_uuid": "a1dbab04b493906ace97813c3bb9cc70445cb77d"
   },
   "source": [
    "**Exercise 5**: What are the most expensive wine varieties? Create a `DataFrame` whose index is wine varieties and whose values are columns with the `min` and the `max` price of wines of this variety. Sort in descending order based on `min` first, `max` second."
   ]
  },
  {
   "cell_type": "code",
   "execution_count": 7,
   "metadata": {
    "_cell_guid": "a579a539-0bfa-489b-84c3-abf4ea3c5c86",
    "_uuid": "867fbedd2147a388be82341867138b97afcfab8f"
   },
   "outputs": [
    {
     "data": {
      "text/plain": [
       "<matplotlib.axes._subplots.AxesSubplot at 0x7fe9ad4627b8>"
      ]
     },
     "execution_count": 7,
     "metadata": {},
     "output_type": "execute_result"
    },
    {
     "data": {
      "image/png": "[encoded data removed]",
      "text/plain": [
       "<matplotlib.figure.Figure at 0x7fe9a9db98d0>"
      ]
     },
     "metadata": {},
     "output_type": "display_data"
    }
   ],
   "source": [
    "# Your code here\n",
    "wine_price_range = reviews.groupby('variety').price.agg(['min','max']).sort_values(by=[\"min\",'max'],ascending=False)\n",
    "check_q5(wine_price_range)"
   ]
  },
  {
   "cell_type": "markdown",
   "metadata": {
    "_cell_guid": "79671bbe-de91-4c2b-b677-cb8475a64548",
    "_uuid": "8a064d8e2da7085f9d6fd2882cc45a7885e9a8cf"
   },
   "source": [
    "**Exercise 6**: What combination of countries and varieties are most common? Create a `Series` whose index is a `MultiIndex`of `{country, variety}` pairs. For example, a pinot noir produced in the US should map to `{\"US\", \"Pinot Noir\"}`. Sort the values in the `Series` in descending order based on wine count.\n",
    "\n",
    "Hint: first run `reviews['n'] = 0`. Then `groupby` the dataset and run something on the column `n`. You won't need `reset_index`."
   ]
  },
  {
   "cell_type": "code",
   "execution_count": 8,
   "metadata": {
    "_cell_guid": "96bd2a15-0ad0-4f8c-b961-9de8d36d276f",
    "_uuid": "d5d18245090702c6096b7d2ee986f228bc546917"
   },
   "outputs": [
    {
     "data": {
      "text/plain": [
       "<matplotlib.axes._subplots.AxesSubplot at 0x7fe9ad3f6198>"
      ]
     },
     "execution_count": 8,
     "metadata": {},
     "output_type": "execute_result"
    },
    {
     "data": {
      "image/png": "[encoded data removed]",
      "text/plain": [
       "<matplotlib.figure.Figure at 0x7fe9a9d62160>"
      ]
     },
     "metadata": {},
     "output_type": "display_data"
    }
   ],
   "source": [
    "# Your code here\n",
    "reviews['n'] = 0\n",
    "country_variety_pairs = reviews.groupby(['country','variety']).n.count().sort_values(ascending=False)\n",
    "check_q6(country_variety_pairs)"
   ]
  },
  {
   "cell_type": "markdown",
   "metadata": {
    "_cell_guid": "877e843c-f13c-4cf1-88de-efec90c72ff2",
    "_uuid": "822140aec7f254c7845df8237525bb4d944f6871"
   },
   "source": [
    "# Keep Going\n",
    "\n",
    "Move on to [**Data types and missing data workbook**](https://www.kaggle.com/residentmario/data-types-and-missing-data-workbook).\n",
    "\n",
    "___\n",
    "This is part of the [*Learn Pandas*](https://www.kaggle.com/learn/pandas) series."
   ]
  }
 ],
 "metadata": {
  "kernelspec": {
   "display_name": "Python 3",
   "language": "python",
   "name": "python3"
  },
  "language_info": {
   "codemirror_mode": {
    "name": "ipython",
    "version": 3
   },
   "file_extension": ".py",
   "mimetype": "text/x-python",
   "name": "python",
   "nbconvert_exporter": "python",
   "pygments_lexer": "ipython3",
   "version": "3.6.4"
  }
 },
 "nbformat": 4,
 "nbformat_minor": 1
}
